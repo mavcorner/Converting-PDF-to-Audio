{
  "nbformat": 4,
  "nbformat_minor": 0,
  "metadata": {
    "colab": {
      "provenance": []
    },
    "kernelspec": {
      "name": "python3",
      "display_name": "Python 3"
    },
    "language_info": {
      "name": "python"
    }
  },
  "cells": [
    {
      "cell_type": "markdown",
      "source": [
        "Install the necessary libraries"
      ],
      "metadata": {
        "id": "_49UqFGN8trV"
      }
    },
    {
      "cell_type": "code",
      "execution_count": null,
      "metadata": {
        "colab": {
          "base_uri": "https://localhost:8080/"
        },
        "id": "pYkpgrwZ7_vt",
        "outputId": "a7e61b45-679e-46f2-f1cd-9239900288c1"
      },
      "outputs": [
        {
          "output_type": "stream",
          "name": "stdout",
          "text": [
            "Requirement already satisfied: PyPDF2 in /usr/local/lib/python3.10/dist-packages (3.0.1)\n"
          ]
        }
      ],
      "source": [
        "pip install PyPDF2"
      ]
    },
    {
      "cell_type": "code",
      "source": [
        "pip install pyttsx3"
      ],
      "metadata": {
        "colab": {
          "base_uri": "https://localhost:8080/"
        },
        "id": "3eOYUwfn8yxl",
        "outputId": "bc59678d-27ed-44c1-b831-621099a87797"
      },
      "execution_count": null,
      "outputs": [
        {
          "output_type": "stream",
          "name": "stdout",
          "text": [
            "Requirement already satisfied: pyttsx3 in /usr/local/lib/python3.10/dist-packages (2.90)\n"
          ]
        }
      ]
    },
    {
      "cell_type": "markdown",
      "source": [
        "Importing the necessary modules"
      ],
      "metadata": {
        "id": "2OsVMoo7859k"
      }
    },
    {
      "cell_type": "code",
      "source": [
        "import PyPDF2, pyttsx3"
      ],
      "metadata": {
        "id": "WJgCjyuX88dE"
      },
      "execution_count": null,
      "outputs": []
    },
    {
      "cell_type": "markdown",
      "source": [
        "Uploading the PDF file"
      ],
      "metadata": {
        "id": "mqmyBDyr9wLF"
      }
    },
    {
      "cell_type": "code",
      "source": [
        "path = open('/nigeria-and-the-nation-state-teaching-notes_pdf.pdf', 'rb')"
      ],
      "metadata": {
        "id": "NykCTdSD9yf1"
      },
      "execution_count": null,
      "outputs": []
    },
    {
      "cell_type": "markdown",
      "source": [
        "Create the PDFfileReader object"
      ],
      "metadata": {
        "id": "FNR9oruT-vNh"
      }
    },
    {
      "cell_type": "code",
      "source": [
        "pdfReader = PyPDF2.PdfReader(path)"
      ],
      "metadata": {
        "id": "PFQm8FRl9zBk"
      },
      "execution_count": null,
      "outputs": []
    },
    {
      "cell_type": "markdown",
      "source": [
        "\n",
        "\n",
        "pyttsx3 uses the espeak library for speech synthesis, hence I will install espeak library to prevent an error occurring."
      ],
      "metadata": {
        "id": "AazB42C1_FXx"
      }
    },
    {
      "cell_type": "code",
      "source": [
        "!apt-get install espeak"
      ],
      "metadata": {
        "colab": {
          "base_uri": "https://localhost:8080/"
        },
        "id": "iv00Y1sZBUJq",
        "outputId": "d26389df-8e37-46bf-a264-efa250db4b3e"
      },
      "execution_count": null,
      "outputs": [
        {
          "output_type": "stream",
          "name": "stdout",
          "text": [
            "Reading package lists... Done\n",
            "Building dependency tree... Done\n",
            "Reading state information... Done\n",
            "espeak is already the newest version (1.48.15+dfsg-3).\n",
            "0 upgraded, 0 newly installed, 0 to remove and 16 not upgraded.\n"
          ]
        }
      ]
    },
    {
      "cell_type": "markdown",
      "source": [
        "Getting an engine instance for the speech synthesis."
      ],
      "metadata": {
        "id": "eCYEBgrvBiKW"
      }
    },
    {
      "cell_type": "code",
      "source": [
        "speak = pyttsx3.init()"
      ],
      "metadata": {
        "id": "0YCt8ysb_CAx"
      },
      "execution_count": null,
      "outputs": []
    },
    {
      "cell_type": "code",
      "source": [
        " for pages in range(len(pdfReader.pages)):\n",
        "  text = pdfReader.pages[pages].extract_text()\n",
        "  speak.say(text)\n",
        "  speak.runAndWait()"
      ],
      "metadata": {
        "id": "TysfA_TaBkge"
      },
      "execution_count": null,
      "outputs": []
    }
  ]
}